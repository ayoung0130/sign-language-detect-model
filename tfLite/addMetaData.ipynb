{
 "cells": [
  {
   "cell_type": "markdown",
   "metadata": {},
   "source": [
    "# TFlite 모델에 메타데이터 추가하기"
   ]
  },
  {
   "cell_type": "code",
   "execution_count": 1,
   "metadata": {},
   "outputs": [
    {
     "name": "stdout",
     "output_type": "stream",
     "text": [
      "Collecting tflite-support\n",
      "  Downloading tflite_support-0.4.3-cp39-cp39-win_amd64.whl.metadata (2.4 kB)\n",
      "Requirement already satisfied: absl-py>=0.7.0 in c:\\users\\_\\anaconda3\\envs\\py3_9_11\\lib\\site-packages (from tflite-support) (2.1.0)\n",
      "Requirement already satisfied: numpy>=1.20.0 in c:\\users\\_\\anaconda3\\envs\\py3_9_11\\lib\\site-packages (from tflite-support) (1.26.4)\n",
      "Requirement already satisfied: flatbuffers>=2.0 in c:\\users\\_\\anaconda3\\envs\\py3_9_11\\lib\\site-packages (from tflite-support) (23.5.26)\n",
      "Requirement already satisfied: protobuf<4,>=3.18.0 in c:\\users\\_\\anaconda3\\envs\\py3_9_11\\lib\\site-packages (from tflite-support) (3.20.3)\n",
      "Requirement already satisfied: sounddevice>=0.4.4 in c:\\users\\_\\anaconda3\\envs\\py3_9_11\\lib\\site-packages (from tflite-support) (0.4.6)\n",
      "Collecting pybind11>=2.6.0 (from tflite-support)\n",
      "  Downloading pybind11-2.12.0-py3-none-any.whl.metadata (9.5 kB)\n",
      "Requirement already satisfied: CFFI>=1.0 in c:\\users\\_\\anaconda3\\envs\\py3_9_11\\lib\\site-packages (from sounddevice>=0.4.4->tflite-support) (1.16.0)\n",
      "Requirement already satisfied: pycparser in c:\\users\\_\\anaconda3\\envs\\py3_9_11\\lib\\site-packages (from CFFI>=1.0->sounddevice>=0.4.4->tflite-support) (2.21)\n",
      "Downloading tflite_support-0.4.3-cp39-cp39-win_amd64.whl (469 kB)\n",
      "   ---------------------------------------- 0.0/469.6 kB ? eta -:--:--\n",
      "   --------------------------------------- 469.6/469.6 kB 28.7 MB/s eta 0:00:00\n",
      "Downloading pybind11-2.12.0-py3-none-any.whl (234 kB)\n",
      "   ---------------------------------------- 0.0/235.0 kB ? eta -:--:--\n",
      "   ---------------------------------------- 235.0/235.0 kB ? eta 0:00:00\n",
      "Installing collected packages: pybind11, tflite-support\n",
      "Successfully installed pybind11-2.12.0 tflite-support-0.4.3\n"
     ]
    }
   ],
   "source": [
    "# 메타 데이터 도구 패키기 설치\n",
    "!pip install tflite-support"
   ]
  },
  {
   "cell_type": "code",
   "execution_count": 2,
   "metadata": {},
   "outputs": [
    {
     "name": "stdout",
     "output_type": "stream",
     "text": [
      "WARNING:tensorflow:From c:\\Users\\_\\anaconda3\\envs\\py3_9_11\\lib\\site-packages\\keras\\src\\losses.py:2976: The name tf.losses.sparse_softmax_cross_entropy is deprecated. Please use tf.compat.v1.losses.sparse_softmax_cross_entropy instead.\n",
      "\n"
     ]
    }
   ],
   "source": [
    "from tflite_support import flatbuffers\n",
    "from tflite_support import metadata as _metadata\n",
    "from tflite_support import metadata_schema_py_generated as _metadata_fb"
   ]
  },
  {
   "cell_type": "code",
   "execution_count": 4,
   "metadata": {},
   "outputs": [],
   "source": [
    "\"\"\" ... \"\"\"\n",
    "\"\"\"Creates the metadata for an image classifier.\"\"\"\n",
    "\n",
    "# Creates model info.\n",
    "model_meta = _metadata_fb.ModelMetadataT()\n",
    "model_meta.name = \"LSTM Sign Language Detect Model\"\n",
    "model_meta.description = (\"Detects and Translates sign language\")\n",
    "model_meta.version = \"v1\"\n",
    "model_meta.author = \"AY\"\n",
    "model_meta.license = \"\"\n"
   ]
  },
  {
   "cell_type": "code",
   "execution_count": 8,
   "metadata": {},
   "outputs": [],
   "source": [
    "# Creates input info.\n",
    "input_meta = _metadata_fb.TensorMetadataT()\n",
    "input_meta.name = \"sequence_data\"\n",
    "input_meta.content = _metadata_fb.ContentT()\n",
    "input_meta.content.contentProperties = (\n",
    "    _metadata_fb.FeaturePropertiesT())\n",
    "input_meta.content.contentPropertiesType = (\n",
    "    _metadata_fb.ContentProperties.FeatureProperties)\n",
    "\n",
    "# Input sequence data의 길이 및 좌표 값 속성 설정\n",
    "input_meta.content.contentPropertiesType = (\n",
    "    _metadata_fb.ContentProperties.FeatureProperties)"
   ]
  },
  {
   "cell_type": "code",
   "execution_count": 9,
   "metadata": {},
   "outputs": [],
   "source": [
    "# Creates output info for sequence data.\n",
    "output_meta = _metadata_fb.TensorMetadataT()\n",
    "output_meta.name = \"probability_sequence\"\n",
    "output_meta.description = \"Probability values for each frame\"\n",
    "output_meta.content = _metadata_fb.ContentT()\n",
    "output_meta.content.contentProperties = (\n",
    "    _metadata_fb.FeaturePropertiesT())\n",
    "output_meta.content.contentPropertiesType = (\n",
    "    _metadata_fb.ContentProperties.FeatureProperties)\n",
    "\n",
    "# Output sequence data의 길이 및 확률 값 속성 설정\n",
    "output_meta.content.contentPropertiesType = (\n",
    "    _metadata_fb.ContentProperties.FeatureProperties)"
   ]
  },
  {
   "cell_type": "code",
   "execution_count": 10,
   "metadata": {},
   "outputs": [],
   "source": [
    "b = flatbuffers.Builder(0)\n",
    "b.Finish(\n",
    "    model_meta.Pack(b),\n",
    "    _metadata.MetadataPopulator.METADATA_FILE_IDENTIFIER)\n",
    "metadta_buf = b.Output()"
   ]
  },
  {
   "cell_type": "code",
   "execution_count": 12,
   "metadata": {},
   "outputs": [
    {
     "ename": "ValueError",
     "evalue": "The number of SubgraphMetadata should be exactly one, but got 0.",
     "output_type": "error",
     "traceback": [
      "\u001b[1;31m---------------------------------------------------------------------------\u001b[0m",
      "\u001b[1;31mValueError\u001b[0m                                Traceback (most recent call last)",
      "Cell \u001b[1;32mIn[12], line 2\u001b[0m\n\u001b[0;32m      1\u001b[0m populator \u001b[38;5;241m=\u001b[39m _metadata\u001b[38;5;241m.\u001b[39mMetadataPopulator\u001b[38;5;241m.\u001b[39mwith_model_file(\u001b[38;5;124m\"\u001b[39m\u001b[38;5;124mC:/Git/sign-language-detect-model/tfLite/sign_language_detect_model.tflite\u001b[39m\u001b[38;5;124m\"\u001b[39m)\n\u001b[1;32m----> 2\u001b[0m \u001b[43mpopulator\u001b[49m\u001b[38;5;241;43m.\u001b[39;49m\u001b[43mload_metadata_buffer\u001b[49m\u001b[43m(\u001b[49m\u001b[43mmetadta_buf\u001b[49m\u001b[43m)\u001b[49m\n\u001b[0;32m      3\u001b[0m \u001b[38;5;66;03m# populator.load_associated_files([\"C:/Users/lee01/Jupyter_Projects/Safety-Helmet-Wearing-Dataset/ProcessingTfliteDetectionModel/label.txt\"])\u001b[39;00m\n\u001b[0;32m      4\u001b[0m populator\u001b[38;5;241m.\u001b[39mpopulate()\n",
      "File \u001b[1;32mc:\\Users\\_\\anaconda3\\envs\\py3_9_11\\lib\\site-packages\\tensorflow_lite_support\\metadata\\python\\metadata.py:302\u001b[0m, in \u001b[0;36mMetadataPopulator.load_metadata_buffer\u001b[1;34m(self, metadata_buf)\u001b[0m\n\u001b[0;32m    299\u001b[0m \u001b[38;5;28;01mif\u001b[39;00m \u001b[38;5;129;01mnot\u001b[39;00m metadata_buf:\n\u001b[0;32m    300\u001b[0m   \u001b[38;5;28;01mraise\u001b[39;00m \u001b[38;5;167;01mValueError\u001b[39;00m(\u001b[38;5;124m\"\u001b[39m\u001b[38;5;124mThe metadata to be populated is empty.\u001b[39m\u001b[38;5;124m\"\u001b[39m)\n\u001b[1;32m--> 302\u001b[0m \u001b[38;5;28;43mself\u001b[39;49m\u001b[38;5;241;43m.\u001b[39;49m\u001b[43m_validate_metadata\u001b[49m\u001b[43m(\u001b[49m\u001b[43mmetadata_buf\u001b[49m\u001b[43m)\u001b[49m\n\u001b[0;32m    304\u001b[0m \u001b[38;5;66;03m# Gets the minimum metadata parser version of the metadata_buf.\u001b[39;00m\n\u001b[0;32m    305\u001b[0m min_version \u001b[38;5;241m=\u001b[39m _pywrap_metadata_version\u001b[38;5;241m.\u001b[39mGetMinimumMetadataParserVersion(\n\u001b[0;32m    306\u001b[0m     \u001b[38;5;28mbytes\u001b[39m(metadata_buf))\n",
      "File \u001b[1;32mc:\\Users\\_\\anaconda3\\envs\\py3_9_11\\lib\\site-packages\\tensorflow_lite_support\\metadata\\python\\metadata.py:619\u001b[0m, in \u001b[0;36mMetadataPopulator._validate_metadata\u001b[1;34m(self, metadata_buf)\u001b[0m\n\u001b[0;32m    616\u001b[0m model_meta \u001b[38;5;241m=\u001b[39m _metadata_fb\u001b[38;5;241m.\u001b[39mModelMetadata\u001b[38;5;241m.\u001b[39mGetRootAsModelMetadata(\n\u001b[0;32m    617\u001b[0m     metadata_buf, \u001b[38;5;241m0\u001b[39m)\n\u001b[0;32m    618\u001b[0m \u001b[38;5;28;01mif\u001b[39;00m model_meta\u001b[38;5;241m.\u001b[39mSubgraphMetadataLength() \u001b[38;5;241m!=\u001b[39m \u001b[38;5;241m1\u001b[39m:\n\u001b[1;32m--> 619\u001b[0m   \u001b[38;5;28;01mraise\u001b[39;00m \u001b[38;5;167;01mValueError\u001b[39;00m(\u001b[38;5;124m\"\u001b[39m\u001b[38;5;124mThe number of SubgraphMetadata should be exactly one, \u001b[39m\u001b[38;5;124m\"\u001b[39m\n\u001b[0;32m    620\u001b[0m                    \u001b[38;5;124m\"\u001b[39m\u001b[38;5;124mbut got \u001b[39m\u001b[38;5;132;01m{0}\u001b[39;00m\u001b[38;5;124m.\u001b[39m\u001b[38;5;124m\"\u001b[39m\u001b[38;5;241m.\u001b[39mformat(\n\u001b[0;32m    621\u001b[0m                        model_meta\u001b[38;5;241m.\u001b[39mSubgraphMetadataLength()))\n\u001b[0;32m    623\u001b[0m \u001b[38;5;66;03m# Verify if the number of tensor metadata matches the number of tensors.\u001b[39;00m\n\u001b[0;32m    624\u001b[0m \u001b[38;5;28;01mwith\u001b[39;00m _open_file(\u001b[38;5;28mself\u001b[39m\u001b[38;5;241m.\u001b[39m_model_file, \u001b[38;5;124m\"\u001b[39m\u001b[38;5;124mrb\u001b[39m\u001b[38;5;124m\"\u001b[39m) \u001b[38;5;28;01mas\u001b[39;00m f:\n",
      "\u001b[1;31mValueError\u001b[0m: The number of SubgraphMetadata should be exactly one, but got 0."
     ]
    }
   ],
   "source": [
    "populator = _metadata.MetadataPopulator.with_model_file(\"C:/Git/sign-language-detect-model/tfLite/sign_language_detect_model.tflite\")\n",
    "populator.load_metadata_buffer(metadta_buf)\n",
    "# populator.load_associated_files([\"C:/Users/lee01/Jupyter_Projects/Safety-Helmet-Wearing-Dataset/ProcessingTfliteDetectionModel/label.txt\"])\n",
    "populator.populate()"
   ]
  },
  {
   "cell_type": "code",
   "execution_count": 32,
   "metadata": {},
   "outputs": [
    {
     "ename": "NameError",
     "evalue": "name 'FLAGS' is not defined",
     "output_type": "error",
     "traceback": [
      "\u001b[1;31m---------------------------------------------------------------------------\u001b[0m",
      "\u001b[1;31mNameError\u001b[0m                                 Traceback (most recent call last)",
      "\u001b[1;32m<ipython-input-32-4921736f664e>\u001b[0m in \u001b[0;36m<module>\u001b[1;34m\u001b[0m\n\u001b[0;32m      2\u001b[0m \u001b[1;32mimport\u001b[0m \u001b[0mos\u001b[0m\u001b[1;33m\u001b[0m\u001b[1;33m\u001b[0m\u001b[0m\n\u001b[0;32m      3\u001b[0m \u001b[0mdisplayer\u001b[0m \u001b[1;33m=\u001b[0m \u001b[0m_metadata\u001b[0m\u001b[1;33m.\u001b[0m\u001b[0mMetadataDisplayer\u001b[0m\u001b[1;33m.\u001b[0m\u001b[0mwith_model_file\u001b[0m\u001b[1;33m(\u001b[0m\u001b[1;34m\"C:/Users/lee01/Jupyter_Projects/Safety-Helmet-Wearing-Dataset/ProcessingTfliteDetectionModel/final_model.tflite\"\u001b[0m\u001b[1;33m)\u001b[0m\u001b[1;33m\u001b[0m\u001b[1;33m\u001b[0m\u001b[0m\n\u001b[1;32m----> 4\u001b[1;33m export_json_file = os.path.join(FLAGS.export_directory,\n\u001b[0m\u001b[0;32m      5\u001b[0m                     os.path.splitext(model_basename)[0] + \".json\")\n\u001b[0;32m      6\u001b[0m \u001b[0mjson_file\u001b[0m \u001b[1;33m=\u001b[0m \u001b[0mdisplayer\u001b[0m\u001b[1;33m.\u001b[0m\u001b[0mget_metadata_json\u001b[0m\u001b[1;33m(\u001b[0m\u001b[1;33m)\u001b[0m\u001b[1;33m\u001b[0m\u001b[1;33m\u001b[0m\u001b[0m\n",
      "\u001b[1;31mNameError\u001b[0m: name 'FLAGS' is not defined"
     ]
    }
   ],
   "source": [
    "#메타 데이터 시각화\n",
    "import os\n",
    "displayer = _metadata.MetadataDisplayer.with_model_file(\"C:/Users/lee01/Jupyter_Projects/Safety-Helmet-Wearing-Dataset/ProcessingTfliteDetectionModel/final_model.tflite\")\n",
    "export_json_file = os.path.join(FLAGS.export_directory,\n",
    "                    os.path.splitext(model_basename)[0] + \".json\")\n",
    "json_file = displayer.get_metadata_json()\n",
    "# Optional: write out the metadata as a json file\n",
    "with open(export_json_file, \"w\") as f:\n",
    "  f.write(json_file)"
   ]
  },
  {
   "cell_type": "code",
   "execution_count": null,
   "metadata": {},
   "outputs": [],
   "source": []
  }
 ],
 "metadata": {
  "kernelspec": {
   "display_name": "Python 3",
   "language": "python",
   "name": "python3"
  },
  "language_info": {
   "codemirror_mode": {
    "name": "ipython",
    "version": 3
   },
   "file_extension": ".py",
   "mimetype": "text/x-python",
   "name": "python",
   "nbconvert_exporter": "python",
   "pygments_lexer": "ipython3",
   "version": "3.9.11"
  },
  "orig_nbformat": 2
 },
 "nbformat": 4,
 "nbformat_minor": 2
}
