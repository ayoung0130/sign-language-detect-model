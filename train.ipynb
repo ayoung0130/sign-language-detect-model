{
 "cells": [
  {
   "cell_type": "code",
   "execution_count": 1,
   "metadata": {},
   "outputs": [],
   "source": [
    "import numpy as np\n",
    "import os   # 운영체제와 상호작용하기 위한 모듈\n",
    "from dotenv import load_dotenv\n",
    "\n",
    "# 환경 변수 로드\n",
    "load_dotenv()\n",
    "base_dir = os.getenv('BASE_DIR')"
   ]
  },
  {
   "cell_type": "code",
   "execution_count": 2,
   "metadata": {},
   "outputs": [
    {
     "name": "stdout",
     "output_type": "stream",
     "text": [
      "(7560, 30, 235)\n"
     ]
    }
   ],
   "source": [
    "data = np.concatenate([\n",
    "    np.load(os.path.join(base_dir, f'seq_data/10words/seq_npy_1725553267_30_10.npy')),\n",
    "    np.load(os.path.join(base_dir, f'seq_data/10words/seq_npy_flip_1725553267_30_10.npy')),\n",
    "    np.load(os.path.join(base_dir, f'seq_data/10words/seq_npy_shift_1725553268_30_10.npy')),\n",
    "    np.load(os.path.join(base_dir, f'seq_data/10words/seq_npy_flip_shift_1725553269_30_10.npy')),\n",
    "], axis=0)\n",
    "\n",
    "print(data.shape)\n",
    "# (데이터의 개수, 프레임 사이즈, 한 프레임당 데이터 개수)"
   ]
  },
  {
   "cell_type": "code",
   "execution_count": 3,
   "metadata": {},
   "outputs": [
    {
     "name": "stdout",
     "output_type": "stream",
     "text": [
      "WARNING:tensorflow:From c:\\Users\\mshof\\AppData\\Local\\Programs\\Python\\Python39\\lib\\site-packages\\keras\\src\\losses.py:2976: The name tf.losses.sparse_softmax_cross_entropy is deprecated. Please use tf.compat.v1.losses.sparse_softmax_cross_entropy instead.\n",
      "\n",
      "(7560, 30, 234)\n",
      "(7560,)\n",
      "(7560, 20)\n",
      "[0. 1. 2. 3. 4. 5. 6. 7. 8. 9.]\n"
     ]
    }
   ],
   "source": [
    "from setting import actions\n",
    "from keras.utils import to_categorical\n",
    "\n",
    "# 데이터 분리 및 전처리\n",
    "x_data = data[:, :, :-1]    # 시퀀스의 마지막 요소 제외한 모든 값 가져와 할당\n",
    "labels = data[:, 0, -1]     # 마지막 요소는 레이블 값\n",
    "\n",
    "# 원-핫 인코딩으로 변환\n",
    "y_data = to_categorical(labels, num_classes=len(actions))\n",
    "\n",
    "print(x_data.shape)\n",
    "print(labels.shape)\n",
    "print(y_data.shape)         # y_data 형태 -> [1. 0. 0. 0. 0. 0. 0. 0. 0. 0. ...]\n",
    "print(np.unique(labels))    # 레이블 값 출력"
   ]
  },
  {
   "cell_type": "code",
   "execution_count": 4,
   "metadata": {},
   "outputs": [
    {
     "name": "stdout",
     "output_type": "stream",
     "text": [
      "(6048, 30, 234) (6048, 20)\n",
      "(1512, 30, 234) (1512, 20)\n"
     ]
    }
   ],
   "source": [
    "from sklearn.model_selection import train_test_split\n",
    "\n",
    "# 데이터셋 분할 (학습 데이터와 검증 데이터만 사용)\n",
    "x_train, x_val, y_train, y_val = train_test_split(x_data, y_data, test_size=0.2, random_state=2024, stratify=labels)\n",
    "\n",
    "print(x_train.shape, y_train.shape)\n",
    "print(x_val.shape, y_val.shape)"
   ]
  },
  {
   "cell_type": "code",
   "execution_count": 5,
   "metadata": {},
   "outputs": [
    {
     "name": "stdout",
     "output_type": "stream",
     "text": [
      "WARNING:tensorflow:From c:\\Users\\mshof\\AppData\\Local\\Programs\\Python\\Python39\\lib\\site-packages\\keras\\src\\layers\\rnn\\lstm.py:148: The name tf.executing_eagerly_outside_functions is deprecated. Please use tf.compat.v1.executing_eagerly_outside_functions instead.\n",
      "\n",
      "WARNING:tensorflow:From c:\\Users\\mshof\\AppData\\Local\\Programs\\Python\\Python39\\lib\\site-packages\\keras\\src\\optimizers\\__init__.py:309: The name tf.train.Optimizer is deprecated. Please use tf.compat.v1.train.Optimizer instead.\n",
      "\n",
      "Model: \"sequential\"\n",
      "_________________________________________________________________\n",
      " Layer (type)                Output Shape              Param #   \n",
      "=================================================================\n",
      " lstm (LSTM)                 (None, 128)               185856    \n",
      "                                                                 \n",
      " dropout (Dropout)           (None, 128)               0         \n",
      "                                                                 \n",
      " dense (Dense)               (None, 64)                8256      \n",
      "                                                                 \n",
      " dropout_1 (Dropout)         (None, 64)                0         \n",
      "                                                                 \n",
      " dense_1 (Dense)             (None, 20)                1300      \n",
      "                                                                 \n",
      "=================================================================\n",
      "Total params: 195412 (763.33 KB)\n",
      "Trainable params: 195412 (763.33 KB)\n",
      "Non-trainable params: 0 (0.00 Byte)\n",
      "_________________________________________________________________\n"
     ]
    }
   ],
   "source": [
    "from keras.models import Sequential\n",
    "from keras.layers import LSTM, Dense, Dropout\n",
    "\n",
    "# 모델 정의\n",
    "model = Sequential([\n",
    "    LSTM(128, activation='tanh', input_shape=x_data.shape[1:3]),\n",
    "    Dropout(0.3),\n",
    "    Dense(64, activation='relu'),\n",
    "    Dropout(0.3),\n",
    "    Dense(len(actions), activation='softmax'),\n",
    "])\n",
    "\n",
    "# 모델 컴파일 (최적화 알고리즘, 레이블 클래스 2개 이상일 때 사용하는 손실 함수, 모델평가지표)\n",
    "model.compile(optimizer='adam', loss='categorical_crossentropy', metrics=['accuracy'])\n",
    "\n",
    "# 모델 요약\n",
    "model.summary()"
   ]
  },
  {
   "cell_type": "code",
   "execution_count": 6,
   "metadata": {},
   "outputs": [
    {
     "name": "stdout",
     "output_type": "stream",
     "text": [
      "Epoch 1/100\n",
      "WARNING:tensorflow:From c:\\Users\\mshof\\AppData\\Local\\Programs\\Python\\Python39\\lib\\site-packages\\keras\\src\\utils\\tf_utils.py:492: The name tf.ragged.RaggedTensorValue is deprecated. Please use tf.compat.v1.ragged.RaggedTensorValue instead.\n",
      "\n",
      "WARNING:tensorflow:From c:\\Users\\mshof\\AppData\\Local\\Programs\\Python\\Python39\\lib\\site-packages\\keras\\src\\engine\\base_layer_utils.py:384: The name tf.executing_eagerly_outside_functions is deprecated. Please use tf.compat.v1.executing_eagerly_outside_functions instead.\n",
      "\n",
      "47/48 [============================>.] - ETA: 0s - loss: 1.9505 - accuracy: 0.3329\n",
      "Epoch 1: val_accuracy improved from -inf to 0.63228, saving model to models\\model.keras\n",
      "48/48 [==============================] - 7s 72ms/step - loss: 1.9460 - accuracy: 0.3347 - val_loss: 1.0782 - val_accuracy: 0.6323 - lr: 0.0010\n",
      "Epoch 2/100\n",
      "47/48 [============================>.] - ETA: 0s - loss: 1.0188 - accuracy: 0.6476\n",
      "Epoch 2: val_accuracy improved from 0.63228 to 0.77315, saving model to models\\model.keras\n",
      "48/48 [==============================] - 3s 61ms/step - loss: 1.0170 - accuracy: 0.6481 - val_loss: 0.6379 - val_accuracy: 0.7731 - lr: 0.0010\n",
      "Epoch 3/100\n",
      "47/48 [============================>.] - ETA: 0s - loss: 0.6208 - accuracy: 0.7937\n",
      "Epoch 3: val_accuracy improved from 0.77315 to 0.83862, saving model to models\\model.keras\n",
      "48/48 [==============================] - 3s 67ms/step - loss: 0.6202 - accuracy: 0.7941 - val_loss: 0.4624 - val_accuracy: 0.8386 - lr: 0.0010\n",
      "Epoch 4/100\n",
      "48/48 [==============================] - ETA: 0s - loss: 0.4866 - accuracy: 0.8444\n",
      "Epoch 4: val_accuracy improved from 0.83862 to 0.90344, saving model to models\\model.keras\n",
      "48/48 [==============================] - 3s 64ms/step - loss: 0.4866 - accuracy: 0.8444 - val_loss: 0.2883 - val_accuracy: 0.9034 - lr: 0.0010\n",
      "Epoch 5/100\n",
      "47/48 [============================>.] - ETA: 0s - loss: 0.3260 - accuracy: 0.9031\n",
      "Epoch 5: val_accuracy improved from 0.90344 to 0.93651, saving model to models\\model.keras\n",
      "48/48 [==============================] - 3s 59ms/step - loss: 0.3256 - accuracy: 0.9033 - val_loss: 0.1845 - val_accuracy: 0.9365 - lr: 0.0010\n",
      "Epoch 6/100\n",
      "47/48 [============================>.] - ETA: 0s - loss: 0.2617 - accuracy: 0.9182\n",
      "Epoch 6: val_accuracy did not improve from 0.93651\n",
      "48/48 [==============================] - 3s 70ms/step - loss: 0.2636 - accuracy: 0.9180 - val_loss: 0.2694 - val_accuracy: 0.9127 - lr: 0.0010\n",
      "Epoch 7/100\n",
      "47/48 [============================>.] - ETA: 0s - loss: 0.2222 - accuracy: 0.9305\n",
      "Epoch 7: val_accuracy improved from 0.93651 to 0.94643, saving model to models\\model.keras\n",
      "48/48 [==============================] - 3s 69ms/step - loss: 0.2223 - accuracy: 0.9302 - val_loss: 0.1552 - val_accuracy: 0.9464 - lr: 0.0010\n",
      "Epoch 8/100\n",
      "47/48 [============================>.] - ETA: 0s - loss: 0.1554 - accuracy: 0.9566\n",
      "Epoch 8: val_accuracy did not improve from 0.94643\n",
      "48/48 [==============================] - 4s 75ms/step - loss: 0.1553 - accuracy: 0.9567 - val_loss: 0.4228 - val_accuracy: 0.8915 - lr: 0.0010\n",
      "Epoch 9/100\n",
      "48/48 [==============================] - ETA: 0s - loss: 0.1643 - accuracy: 0.9507\n",
      "Epoch 9: val_accuracy improved from 0.94643 to 0.95701, saving model to models\\model.keras\n",
      "48/48 [==============================] - 3s 70ms/step - loss: 0.1643 - accuracy: 0.9507 - val_loss: 0.1252 - val_accuracy: 0.9570 - lr: 0.0010\n",
      "Epoch 10/100\n",
      "47/48 [============================>.] - ETA: 0s - loss: 0.1316 - accuracy: 0.9623\n",
      "Epoch 10: val_accuracy did not improve from 0.95701\n",
      "48/48 [==============================] - 3s 68ms/step - loss: 0.1318 - accuracy: 0.9621 - val_loss: 0.1852 - val_accuracy: 0.9339 - lr: 0.0010\n",
      "Epoch 11/100\n",
      "47/48 [============================>.] - ETA: 0s - loss: 0.2016 - accuracy: 0.9388\n",
      "Epoch 11: val_accuracy improved from 0.95701 to 0.97024, saving model to models\\model.keras\n",
      "48/48 [==============================] - 3s 68ms/step - loss: 0.2014 - accuracy: 0.9388 - val_loss: 0.0915 - val_accuracy: 0.9702 - lr: 0.0010\n",
      "Epoch 12/100\n",
      "47/48 [============================>.] - ETA: 0s - loss: 0.1003 - accuracy: 0.9721\n",
      "Epoch 12: val_accuracy did not improve from 0.97024\n",
      "48/48 [==============================] - 3s 67ms/step - loss: 0.1000 - accuracy: 0.9722 - val_loss: 0.0880 - val_accuracy: 0.9689 - lr: 0.0010\n",
      "Epoch 13/100\n",
      "46/48 [===========================>..] - ETA: 0s - loss: 0.1233 - accuracy: 0.9652"
     ]
    }
   ],
   "source": [
    "from keras.callbacks import ModelCheckpoint, ReduceLROnPlateau, EarlyStopping\n",
    "\n",
    "# 모델 훈련\n",
    "history = model.fit(\n",
    "    x_train,\n",
    "    y_train,\n",
    "    validation_data=(x_val, y_val),\n",
    "    epochs=100,\n",
    "    batch_size=128,\n",
    "    callbacks=[\n",
    "        # save_best_only -> 모델 정확도가 이전보다 향상된 경우에만 모델 저장\n",
    "        ModelCheckpoint('models/model.keras', monitor='val_accuracy', verbose=1, save_best_only=True, mode='auto'),\n",
    "        # 정확도 개선이 없을시 학습률(factor) 0.5배로 감소, n 에포크 동안 개선 없을 경우 학습률 감소\n",
    "        ReduceLROnPlateau(monitor='val_accuracy', factor=0.5, patience=20, verbose=1, mode='auto'),\n",
    "        # early stopping 적용\n",
    "        # EarlyStopping(monitor='val_loss', patience=20, restore_best_weights=True),\n",
    "    ]\n",
    ")"
   ]
  },
  {
   "cell_type": "code",
   "execution_count": null,
   "metadata": {},
   "outputs": [],
   "source": [
    "import matplotlib.pyplot as plt\n",
    "\n",
    "# 학습 데이터/검증 데이터 정확도/손실 그래프\n",
    "fig, loss_ax = plt.subplots(figsize=(16, 10))\n",
    "acc_ax = loss_ax.twinx()\n",
    "\n",
    "loss_ax.plot(history.history['loss'], 'y', label='train loss')\n",
    "loss_ax.plot(history.history['val_loss'], 'r', label='val loss')\n",
    "loss_ax.set_xlabel('epoch')\n",
    "loss_ax.set_ylabel('loss')\n",
    "loss_ax.legend(loc='upper left')\n",
    "\n",
    "acc_ax.plot(history.history['accuracy'], 'b', label='train accuracy')\n",
    "acc_ax.plot(history.history['val_accuracy'], 'g', label='val accuracy')\n",
    "acc_ax.set_ylabel('accuracy')\n",
    "acc_ax.legend(loc='upper right')\n",
    "\n",
    "plt.show()"
   ]
  }
 ],
 "metadata": {
  "kernelspec": {
   "display_name": "Python 3",
   "language": "python",
   "name": "python3"
  },
  "language_info": {
   "codemirror_mode": {
    "name": "ipython",
    "version": 3
   },
   "file_extension": ".py",
   "mimetype": "text/x-python",
   "name": "python",
   "nbconvert_exporter": "python",
   "pygments_lexer": "ipython3",
   "version": "3.9.11"
  }
 },
 "nbformat": 4,
 "nbformat_minor": 2
}
