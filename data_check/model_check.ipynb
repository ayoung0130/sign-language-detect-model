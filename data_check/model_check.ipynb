{
 "cells": [
  {
   "cell_type": "code",
   "execution_count": null,
   "metadata": {},
   "outputs": [],
   "source": [
    "import tensorflow as tf\n",
    "from tensorflow.keras.models import load_model\n",
    "from tensorflow.keras.utils import plot_model\n",
    "\n",
    "# 모델 로드\n",
    "model = load_model('models/model.keras')\n",
    "\n",
    "# 모델의 구조 요약 출력\n",
    "model.summary()\n",
    "\n",
    "# 모델의 모든 레이어와 그 파라미터를 확인\n",
    "for layer in model.layers:\n",
    "    print(f\"Layer: {layer.name}\")\n",
    "    print(f\"  Input shape: {layer.input_shape}\")\n",
    "    print(f\"  Output shape: {layer.output_shape}\")\n",
    "    print(f\"  Number of parameters: {layer.count_params()}\")\n",
    "    print(f\"  Weights: {layer.get_weights()}\\n\")\n"
   ]
  }
 ],
 "metadata": {
  "kernelspec": {
   "display_name": "Python 3",
   "language": "python",
   "name": "python3"
  },
  "language_info": {
   "codemirror_mode": {
    "name": "ipython",
    "version": 3
   },
   "file_extension": ".py",
   "mimetype": "text/x-python",
   "name": "python",
   "nbconvert_exporter": "python",
   "pygments_lexer": "ipython3",
   "version": "3.9.11"
  }
 },
 "nbformat": 4,
 "nbformat_minor": 2
}
