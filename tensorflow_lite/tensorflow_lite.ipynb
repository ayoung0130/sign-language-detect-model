{
 "cells": [
  {
   "cell_type": "code",
   "execution_count": null,
   "metadata": {},
   "outputs": [],
   "source": [
    "import tensorflow as tf\n",
    "from keras.models import load_model\n",
    "\n",
    "# 모델 경로\n",
    "model_path = 'models/model.keras'\n",
    "\n",
    "# TensorFlow 모델 로드\n",
    "model = load_model(model_path)"
   ]
  },
  {
   "cell_type": "code",
   "execution_count": null,
   "metadata": {},
   "outputs": [],
   "source": [
    "# TensorFlow Lite Converter 생성\n",
    "converter = tf.lite.TFLiteConverter.from_keras_model(model)\n",
    "\n",
    "# 최적화\n",
    "converter.optimizations = []\n",
    "# tf.lite.Optimize.DEFAULT 설정시 양자화(모델 크기 줄이고 실행 속도 높임, 그러나 성능이 떨어질 수 있음)\n",
    "\n",
    "# 지원되는 옵션 설정\n",
    "converter.target_spec.supported_ops = [\n",
    "    tf.lite.OpsSet.TFLITE_BUILTINS,  # TensorFlow Lite 내장 연산 활성화\n",
    "    tf.lite.OpsSet.SELECT_TF_OPS      # TensorFlow 연산 활성화\n",
    "]\n",
    "\n",
    "# Tensor list ops를 변환하지 않도록 설정\n",
    "converter._experimental_lower_tensor_list_ops = False"
   ]
  },
  {
   "cell_type": "code",
   "execution_count": null,
   "metadata": {},
   "outputs": [],
   "source": [
    "# TensorFlow Lite 모델로 변환\n",
    "tflite_model = converter.convert()"
   ]
  },
  {
   "cell_type": "code",
   "execution_count": null,
   "metadata": {},
   "outputs": [],
   "source": [
    "# TensorFlow Lite 모델을 파일로 저장\n",
    "with open('sign_language_detect_model.tflite', 'wb') as f:\n",
    "    f.write(tflite_model)"
   ]
  }
 ],
 "metadata": {
  "kernelspec": {
   "display_name": "Python 3",
   "language": "python",
   "name": "python3"
  },
  "language_info": {
   "codemirror_mode": {
    "name": "ipython",
    "version": 3
   },
   "file_extension": ".py",
   "mimetype": "text/x-python",
   "name": "python",
   "nbconvert_exporter": "python",
   "pygments_lexer": "ipython3",
   "version": "3.9.11"
  }
 },
 "nbformat": 4,
 "nbformat_minor": 2
}
